{
  "nbformat": 4,
  "nbformat_minor": 0,
  "metadata": {
    "colab": {
      "name": "02_LDL_lag_transformation.ipynb",
      "provenance": [],
      "collapsed_sections": [],
      "include_colab_link": true
    },
    "kernelspec": {
      "name": "python3",
      "display_name": "Python 3"
    }
  },
  "cells": [
    {
      "cell_type": "markdown",
      "metadata": {
        "id": "view-in-github",
        "colab_type": "text"
      },
      "source": [
        "<a href=\"https://colab.research.google.com/github/climate-and-health-datasci-Unicamp/ldl-cholesterol-climate-analysis/blob/master/notebooks/02_LDL_lag_transformation.ipynb\" target=\"_parent\"><img src=\"https://colab.research.google.com/assets/colab-badge.svg\" alt=\"Open In Colab\"/></a>"
      ]
    },
    {
      "cell_type": "markdown",
      "metadata": {
        "id": "pC_dyTERWEfG",
        "colab_type": "text"
      },
      "source": [
        "**Authors:**\n",
        "* [Júlia Perassolli De Lázari](https://github.com/juliaplazari)\n",
        "* [Thiago Ribas Bella](https://github.com/trbella)\n",
        "\n",
        "*created in jun/2020*"
      ]
    },
    {
      "cell_type": "markdown",
      "metadata": {
        "id": "ZC7H83RC9RjC",
        "colab_type": "text"
      },
      "source": [
        "## LDL lag transformation\n",
        "\n",
        "INPUTS:\n",
        "\n",
        "- [df_clean.csv](https://drive.google.com/file/d/1P579PpCjPwAY7vATbi_oX8cFJSkcbGGS/view?usp=sharing) - n = 1,038,281,\n",
        "\n",
        "- [cold_wave_IAC.csv](https://drive.google.com/file/d/1egiog_W6A9Fz8JyOlEKeOHKLGTG3vcnJ/view?usp=sharing),\n",
        "\n",
        "- [heat_wave_IAC.csv](https://drive.google.com/file/d/1bSt-wTSugl3Fxe-tILQ-0HIfeQa5xTuh/view?usp=sharing)\n",
        "\n",
        "OUTPUT: \n",
        "* [ldl_waves_lags.csv](https://drive.google.com/file/d/1wKKE6TFeBkbbi6va6MB3pMe6ReGxlNw_/view?usp=sharing)\n",
        "\n",
        "The dataframe ldl_waves_lags has the following columns: results of ldl exam, date of exam, sex, age, age group and presence or absence of cold and heat waves from 0 to 10 days after ldl exam realization.\n",
        "\n",
        "The dataframe goes from 2008 to 2018 (withouth leap days).\n",
        "\n"
      ]
    },
    {
      "cell_type": "markdown",
      "metadata": {
        "id": "vgYnTsuS-odT",
        "colab_type": "text"
      },
      "source": [
        "### Read and prepare data\n",
        "\n",
        "Read the data from df_clean\n",
        "\n",
        "The dataframe is prepared to be analysed with climate dataframes:\n",
        "\n",
        "- Remove rows with leap days (2012-02-29 and 2016-02-29)\n",
        "- Remove rows with sex as 'I'\n",
        "- Create age group category\n",
        "- Remove rows with 2019 data \n",
        "\n",
        "The data of 2019 is not used as it's not complete.\n",
        "\n"
      ]
    },
    {
      "cell_type": "code",
      "metadata": {
        "id": "Os4c3lKgWEQR",
        "colab_type": "code",
        "cellView": "both",
        "colab": {
          "base_uri": "https://localhost:8080/",
          "height": 102
        },
        "outputId": "6b71272e-5d0d-4bc5-ddb9-099ad863a4ce"
      },
      "source": [
        "#Load data and libraries\n",
        "#-------------------------------------------------------------------#\n",
        "#                       Import libraries                            #\n",
        "#-------------------------------------------------------------------#\n",
        "import pandas as pd\n",
        "import numpy as np\n",
        "import matplotlib.pyplot as plt\n",
        "from google.colab import drive\n",
        "from google.colab import files\n",
        "from google.colab import auth\n",
        "\n",
        "#-------------------------------------------------------------------#\n",
        "#                    Load clean dataframe                           #\n",
        "#-------------------------------------------------------------------#\n",
        "drive.mount('/content/drive')\n",
        "df_clean = pd.read_csv('/content/drive/Shared drives/Clima&Saúde/Dados/Dados_Saude/Clinicos_LMC/LDL/SUBSET/df_clean.csv')\n",
        "print(\"\\nLenght of clean dataframe: \",len(df_clean),'\\n')\n",
        "\n",
        "df_clean = df_clean.drop(columns = ['Unnamed: 0','Year','Month','Day'])\n",
        "df_clean = df_clean.rename(columns = {'DateTimeExam':'DATE'})\n",
        "print(df_clean.columns)"
      ],
      "execution_count": 2,
      "outputs": [
        {
          "output_type": "stream",
          "text": [
            "Mounted at /content/drive\n",
            "\n",
            "Lenght of clean dataframe:  1038281 \n",
            "\n",
            "Index(['Procedure', 'DATE', 'Parameter', 'Result', 'Sex', 'City', 'UF', 'Age'], dtype='object')\n"
          ],
          "name": "stdout"
        }
      ]
    },
    {
      "cell_type": "code",
      "metadata": {
        "id": "gHl6LftuRg3Y",
        "colab_type": "code",
        "cellView": "both",
        "colab": {}
      },
      "source": [
        "#Create age group category\n",
        "df_clean.loc[df_clean['Age'] < 2.0, 'Age group'] = '1 - Infant'\n",
        "df_clean.loc[(df_clean['Age'] >=2.0) & (df_clean['Age'] <= 12.0), 'Age group'] = '2 - Child'\n",
        "df_clean.loc[(df_clean['Age'] >=13.0) & (df_clean['Age'] <= 19.0), 'Age group'] ='3 - Teenager'\n",
        "df_clean.loc[(df_clean['Age'] >=20.0) & (df_clean['Age'] <= 39.0), 'Age group'] ='4 - Young adult'\n",
        "df_clean.loc[(df_clean['Age'] >=40.0) & (df_clean['Age'] <= 64.0), 'Age group'] ='5 - Adult'\n",
        "df_clean.loc[df_clean['Age'] >64.0, 'Age group'] = '6 - Elderly'"
      ],
      "execution_count": 3,
      "outputs": []
    },
    {
      "cell_type": "code",
      "metadata": {
        "id": "pPx7fUa7rpYp",
        "colab_type": "code",
        "cellView": "both",
        "colab": {
          "base_uri": "https://localhost:8080/",
          "height": 68
        },
        "outputId": "cd15c43e-7f71-462c-dc68-a5cb28425fd5"
      },
      "source": [
        "#Remove rows with sex as 'I'\n",
        "#-------------------------------------------------------------------#\n",
        "#                         Most relevant data                        #\n",
        "#-------------------------------------------------------------------#\n",
        "\n",
        "df = df_clean[['Result', 'DATE','Age','Age group','Sex']] #most relevant data\n",
        "print(\"There're\", len(df[(df.DATE =='2012-02-29')&(df.DATE =='2016-02-29')]), \"rows with leap year dates\")\n",
        "df = df[(df.DATE !='2012-02-29')&(df.DATE !='2016-02-29')] #remove leap year dates (02-29)\n",
        "print(\"There're\", len(df[df['Sex'] == 'I']), \"rows with sex = 'I'\")\n",
        "df = df[df['Sex']!= 'I'] #remove rows with sex = 'I'\n",
        "print(\"Lenght of the new dataframe: \",len(df))"
      ],
      "execution_count": 4,
      "outputs": [
        {
          "output_type": "stream",
          "text": [
            "There're 0 rows with leap year dates\n",
            "There're 10392 rows with sex = 'I'\n",
            "Lenght of the new dataframe:  1026882\n"
          ],
          "name": "stdout"
        }
      ]
    },
    {
      "cell_type": "code",
      "metadata": {
        "id": "2QiulP7KuXna",
        "colab_type": "code",
        "cellView": "both",
        "colab": {
          "base_uri": "https://localhost:8080/",
          "height": 204
        },
        "outputId": "2f3b97b1-352f-4d11-edcc-fa641c549ca7"
      },
      "source": [
        "#Remove rows with 2019 data\n",
        "#reset index\n",
        "df['DATE'] = pd.to_datetime(df['DATE'])\n",
        "df = df.set_index('DATE')\n",
        "print(df.tail(5))\n",
        "\n",
        "#remove 2019 data\n",
        "print('\\n')\n",
        "print(\"There're\", len(df.loc['2019-01-01':'2019-05-31']),\"rows with 2019 data\")\n",
        "df = df.loc['2008-03-03':'2019-01-01']\n",
        "df = df.reset_index()\n",
        "print(\"Lenght of the dataframe:\",len(df))\n"
      ],
      "execution_count": 5,
      "outputs": [
        {
          "output_type": "stream",
          "text": [
            "            Result  Age        Age group Sex\n",
            "DATE                                        \n",
            "2019-05-31   137.0   69      6 - Elderly   F\n",
            "2019-05-31   154.0   45        5 - Adult   M\n",
            "2019-05-31   103.0   38  4 - Young adult   F\n",
            "2019-05-31   106.0   75      6 - Elderly   M\n",
            "2019-05-31   137.0   70      6 - Elderly   M\n",
            "\n",
            "\n",
            "There're 46836 rows with 2019 data\n",
            "Lenght of the dataframe: 980046\n"
          ],
          "name": "stdout"
        }
      ]
    },
    {
      "cell_type": "markdown",
      "metadata": {
        "id": "w7aAkrOk_7uo",
        "colab_type": "text"
      },
      "source": [
        "# **Cold waves and heat waves data**\n",
        "\n",
        "Get cold and heat waves data and merge it with the LDL dataframe."
      ]
    },
    {
      "cell_type": "markdown",
      "metadata": {
        "id": "mrQ-9p_Nphhl",
        "colab_type": "text"
      },
      "source": [
        "## **Dataset: cold_wave_IAC**\n",
        "**below_pct**\n",
        "\n",
        "Whether the day had temperatures below 10th percentile. [See supplement](https://github.com/climate-and-health-datasci-Unicamp/ldl-cholesterol-climate-analysis/blob/master/references/How_do_we_calculate_thermal_waves.docx?raw=true).\n",
        "\n",
        "**Column cwave**\n",
        "\n",
        "inicio = when the cold wave started\n",
        "\n",
        "meio = during cold wave\n",
        "\n",
        "fim = next day after cold wave ended\n",
        "\n",
        "0 = control day\n",
        "\n",
        "**Column ci** (binary)\n",
        "\n",
        "1 = start of cold wave\n",
        "\n",
        "**Column cf** (binary)\n",
        "\n",
        "1 = end of cold wave\n",
        "\n",
        "Below we will load cold wave data from meteorological station of Agronomic Institute of Campinas (IAC) and merge with cholesterol dataset."
      ]
    },
    {
      "cell_type": "code",
      "metadata": {
        "id": "q7qolNK-vF7H",
        "colab_type": "code",
        "cellView": "both",
        "colab": {
          "base_uri": "https://localhost:8080/",
          "height": 340
        },
        "outputId": "d6283fd8-2315-4c12-d406-c0443f15cf0e"
      },
      "source": [
        "#Load cold wave data and merge with cholesterol dataset\n",
        "#-------------------------------------------------------------------#\n",
        "#                          Cold wave data                           #\n",
        "#-------------------------------------------------------------------#\n",
        "!pip install -U -q PyDrive\n",
        "from pydrive.auth import GoogleAuth\n",
        "from pydrive.drive import GoogleDrive\n",
        "from google.colab import auth\n",
        "from oauth2client.client import GoogleCredentials\n",
        "\n",
        "auth.authenticate_user()\n",
        "gauth = GoogleAuth()\n",
        "gauth.credentials = GoogleCredentials.get_application_default()\n",
        "drive = GoogleDrive(gauth)\n",
        "\n",
        "googl = drive.CreateFile({'id':'1egiog_W6A9Fz8JyOlEKeOHKLGTG3vcnJ'})\n",
        "googl.GetContentFile('cold_wave_IAC.csv')\n",
        "\n",
        "cw = pd.read_csv('/content/cold_wave_IAC.csv', sep = ';')\n",
        "cw.DATE = pd.to_datetime(cw.DATE,dayfirst=True)\n",
        "print(cw.head(5))\n",
        "#print(cw.DATE.head().dt.day)\n",
        "\n",
        "#beginning of cold wave\n",
        "c_1 = cw[cw['cwave']=='inicio']\n",
        "print(np.unique(cw['cwave'].astype(str)))\n",
        "print(c_1.head(5))\n",
        "\n",
        "#merge with LDL dataframe\n",
        "df2 = pd.merge(df,cw,on='DATE')\n",
        "print('\\ncolumns of the merged dataframe :\\n\\n',df2.columns,)\n"
      ],
      "execution_count": 6,
      "outputs": [
        {
          "output_type": "stream",
          "text": [
            "        DATE  below_pct  CW cwave  ci  cf\n",
            "0 1961-01-01          0   0     0   0   0\n",
            "1 1961-01-02          0   0     0   0   0\n",
            "2 1961-01-03          0   0     0   0   0\n",
            "3 1961-01-04          0   0     0   0   0\n",
            "4 1961-01-05          0   0     0   0   0\n",
            "['0' 'fim' 'inicio' 'meio']\n",
            "           DATE  below_pct  CW   cwave  ci  cf\n",
            "1145 1964-02-20          1   1  inicio   1   0\n",
            "1301 1964-07-26          1   1  inicio   1   0\n",
            "1889 1966-03-06          1   1  inicio   1   0\n",
            "3763 1971-04-24          1   1  inicio   1   0\n",
            "3973 1971-11-20          1   1  inicio   1   0\n",
            "\n",
            "columns of the merged dataframe :\n",
            "\n",
            " Index(['DATE', 'Result', 'Age', 'Age group', 'Sex', 'below_pct', 'CW', 'cwave',\n",
            "       'ci', 'cf'],\n",
            "      dtype='object')\n"
          ],
          "name": "stdout"
        }
      ]
    },
    {
      "cell_type": "markdown",
      "metadata": {
        "id": "X3Si_C6WpY8r",
        "colab_type": "text"
      },
      "source": [
        "## **Dataset: heat_wave_IAC**\n",
        "**above_pct** (binary)\n",
        "\n",
        "Whether the day had temperatures above 90th percentile. [See supplement](https://github.com/climate-and-health-datasci-Unicamp/ldl-cholesterol-climate-analysis/blob/master/references/How_do_we_calculate_thermal_waves.docx?raw=true).\n",
        "\n",
        "**Column hwave**\n",
        "\n",
        "inicio = when the heat wave started\n",
        "\n",
        "meio = during heat wave\n",
        "\n",
        "fim = next day after heat wave ended\n",
        "\n",
        "0 = control day\n",
        "\n",
        "**Column ci** (binary)\n",
        "\n",
        "1 = start of heat wave\n",
        "\n",
        "**Column cf** (binary)\n",
        "\n",
        "1 = end of heat wave\n",
        "\n",
        "Below we will load heat wave data from meteorological station of Agronomic Institute of Campinas (IAC) and merge with merged dataset above."
      ]
    },
    {
      "cell_type": "code",
      "metadata": {
        "id": "Zyn79V60XnWu",
        "colab_type": "code",
        "cellView": "both",
        "colab": {
          "base_uri": "https://localhost:8080/",
          "height": 221
        },
        "outputId": "4a3523a0-2000-4d7d-ccc8-aee6ac889b9d"
      },
      "source": [
        "#Load heat wave data\n",
        "#-------------------------------------------------------------------#\n",
        "#                          Heat wave data                           #\n",
        "#-------------------------------------------------------------------#\n",
        "googl = drive.CreateFile({'id':'1bSt-wTSugl3Fxe-tILQ-0HIfeQa5xTuh'})\n",
        "googl.GetContentFile('heat_wave_IAC.csv')\n",
        "\n",
        "hw = pd.read_csv('/content/heat_wave_IAC.csv', sep = ';')\n",
        "hw.DATE = pd.to_datetime(hw.DATE,dayfirst=True)\n",
        "print(hw.head(5))\n",
        "h_1 = hw[hw['hwave']=='inicio'] #datas onde começa onda de frio\n",
        "\n",
        "df3 = pd.merge(df2,hw)\n",
        "print('\\ncolumns of the merged dataframe :\\n\\n',df3.columns,)"
      ],
      "execution_count": 9,
      "outputs": [
        {
          "output_type": "stream",
          "text": [
            "        DATE  above_pct  HW hwave  hi  hf\n",
            "0 1961-01-01          0   0     0   0   0\n",
            "1 1961-01-02          0   0     0   0   0\n",
            "2 1961-01-03          0   0     0   0   0\n",
            "3 1961-01-04          0   0     0   0   0\n",
            "4 1961-01-05          0   0     0   0   0\n",
            "\n",
            "columns of the merged dataframe :\n",
            "\n",
            " Index(['DATE', 'Result', 'Age', 'Age group', 'Sex', 'below_pct', 'CW', 'cwave',\n",
            "       'ci', 'cf', 'above_pct', 'HW', 'hwave', 'hi', 'hf'],\n",
            "      dtype='object')\n"
          ],
          "name": "stdout"
        }
      ]
    },
    {
      "cell_type": "code",
      "metadata": {
        "id": "4ytGLsXPA5mz",
        "colab_type": "code",
        "cellView": "both",
        "colab": {
          "base_uri": "https://localhost:8080/",
          "height": 85
        },
        "outputId": "ded80911-e877-4e43-c105-7c31a017f2ef"
      },
      "source": [
        "#Count of days with thermal waves\n",
        "#-------------------------------------------------------------------#\n",
        "#                    Number of cold and heat waves                  #\n",
        "#-------------------------------------------------------------------#\n",
        "\n",
        "c1 = len(np.unique(df3['DATE'][df3['cwave']=='inicio']))\n",
        "h1 = len(np.unique(df3['DATE'][df3['hwave']=='inicio']))\n",
        "n1 = len(np.unique(df3['DATE'][(df3['below_pct']==0)&(df3['above_pct']==0)]))\n",
        "\n",
        "print('Thermal waves present in LDL exam')\n",
        "print(f'Number of cold waves in LDL results = {c1}')\n",
        "print(f'Number of heat waves in LDL results = {h1}')\n",
        "print(f'Days without extreme temperatures (control group) in LDL results = {n1}')\n"
      ],
      "execution_count": 12,
      "outputs": [
        {
          "output_type": "stream",
          "text": [
            "Thermal waves present in LDL exam\n",
            "Number of cold waves in LDL results = 7\n",
            "Number of heat waves in LDL results = 18\n",
            "Days without extreme temperatures (control group) in LDL results = 2345\n"
          ],
          "name": "stdout"
        }
      ]
    },
    {
      "cell_type": "markdown",
      "metadata": {
        "id": "etY0laRRCuS2",
        "colab_type": "text"
      },
      "source": [
        "### Dataframe with thermal waves and lagged data\n",
        "\n",
        "New dataframe with thermal waves and lagged ldl results data, which goes from  0 to 10 days after the thermal wave beginning.\n",
        "\n",
        "Finally, we will create binary columns which indicate if there was a thermal wave beginning (CI for cold or HI for heat) for each date (DATE column).\n",
        "For example, if a cold wave began 25/06/2009, there will be 1 in this date for CI_lag0 column. There will be 1 also in 26/06/2009 for CI_lag1 column, indicating the cholesterol results in this day were collected 1 day after the beginning of a cold wave.\n",
        "\n",
        "This approach makes easy to analyse lagged data. When comparing these data, we will separate all ldl cholesterol results collected 0 days (lag0) after a cold spell, 1 day after (lag1), 2 days after (lag2) ... and so on, until 10 days before.\n",
        "\n",
        "In the [analysis script](https://github.com/climate-and-health-datasci-Unicamp/ldl-cholesterol-climate-analysis/blob/master/notebooks/03_LDL_above_average.ipynb) we will compare days where did not have any thermal event, cold or heat, called control days, with days where did have cold spells\n",
        "\n",
        "\n"
      ]
    },
    {
      "cell_type": "code",
      "metadata": {
        "id": "REBg_3duD0Lg",
        "colab_type": "code",
        "cellView": "both",
        "colab": {
          "base_uri": "https://localhost:8080/",
          "height": 136
        },
        "outputId": "536b7d65-2fec-44a1-9f6d-a2446e35ee4f"
      },
      "source": [
        "#Thermal wave and ldl lagged data\n",
        "#-------------------------------------------------------------------#\n",
        "#                 Dataframe with termal waves and lag               #\n",
        "#-------------------------------------------------------------------#\n",
        "#   function lag for dates\n",
        "#   pandas.Index.shift\n",
        "#https://pandas.pydata.org/pandas-docs/stable/reference/api/pandas.Index.shift.html\n",
        "\n",
        "df_shift = df3\n",
        "df_shift = df_shift.set_index('DATE') #date column as index\n",
        "dates = pd.DataFrame(df.DATE) #dataframe with LDL exam results dates\n",
        "dates = dates.set_index('DATE') #date column as index\n",
        "\n",
        "for lag in range(0,-11,-1):\n",
        "    name = lag*(-1)\n",
        "    dates = dates.shift(lag,freq='D') #dates with lag for the date dataframe\n",
        "\n",
        "# Verify if the date of ldl exam (dates.index) was the beginning of \n",
        "# a thermal wave (c_1['DATE'])\n",
        "# 1 if yes, 0 otherwise\n",
        "\n",
        "    df_shift['bool'] = np.isin(dates.index,c_1['DATE'])\n",
        "    df_shift[f'CI_lag{name}'] = np.where(df_shift['bool']==True,1,0)\n",
        "    df_shift['bool'] = np.isin(dates.index,h_1['DATE'])\n",
        "    df_shift[f'HI_lag{name}'] = np.where(df_shift['bool']==True,1,0)\n",
        "    dates = pd.DataFrame(df3.DATE)\n",
        "    dates = dates.set_index('DATE')\n",
        "\n",
        "df_shift = df_shift.reset_index()\n",
        "df_shift.columns"
      ],
      "execution_count": 13,
      "outputs": [
        {
          "output_type": "execute_result",
          "data": {
            "text/plain": [
              "Index(['DATE', 'Result', 'Age', 'Age group', 'Sex', 'below_pct', 'CW', 'cwave',\n",
              "       'ci', 'cf', 'above_pct', 'HW', 'hwave', 'hi', 'hf', 'bool', 'CI_lag0',\n",
              "       'HI_lag0', 'CI_lag1', 'HI_lag1', 'CI_lag2', 'HI_lag2', 'CI_lag3',\n",
              "       'HI_lag3', 'CI_lag4', 'HI_lag4', 'CI_lag5', 'HI_lag5', 'CI_lag6',\n",
              "       'HI_lag6', 'CI_lag7', 'HI_lag7', 'CI_lag8', 'HI_lag8', 'CI_lag9',\n",
              "       'HI_lag9', 'CI_lag10', 'HI_lag10'],\n",
              "      dtype='object')"
            ]
          },
          "metadata": {
            "tags": []
          },
          "execution_count": 13
        }
      ]
    },
    {
      "cell_type": "markdown",
      "metadata": {
        "id": "O3XhgVYaF9iA",
        "colab_type": "text"
      },
      "source": [
        "### Save the dataframe\n"
      ]
    }
  ]
}